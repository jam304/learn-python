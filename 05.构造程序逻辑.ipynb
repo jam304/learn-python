{
 "metadata": {
  "language_info": {
   "codemirror_mode": {
    "name": "ipython",
    "version": 3
   },
   "file_extension": ".py",
   "mimetype": "text/x-python",
   "name": "python",
   "nbconvert_exporter": "python",
   "pygments_lexer": "ipython3",
   "version": "3.8.5"
  },
  "orig_nbformat": 2,
  "kernelspec": {
   "name": "python3",
   "display_name": "Python 3",
   "language": "python"
  }
 },
 "nbformat": 4,
 "nbformat_minor": 2,
 "cells": [
  {
   "cell_type": "code",
   "execution_count": null,
   "metadata": {},
   "outputs": [],
   "source": [
    "\"\"\"\n",
    "找出所有水仙花数\n",
    "\n",
    "Version: 0.1\n",
    "Author: 骆昊\n",
    "\"\"\"\n",
    "\n",
    "for num in range(100, 1000):\n",
    "    low = num % 10\n",
    "    mid = num // 10 % 10\n",
    "    high = num // 100\n",
    "    if num == low ** 3 + mid ** 3 + high ** 3:\n",
    "        print(num)"
   ]
  },
  {
   "cell_type": "code",
   "execution_count": null,
   "metadata": {},
   "outputs": [],
   "source": [
    "\"\"\"\n",
    "正整数的反转\n",
    "\n",
    "Version: 0.1\n",
    "Author: 骆昊\n",
    "\"\"\"\n",
    "\n",
    "num = int(input('num = '))\n",
    "reversed_num = 0\n",
    "while num > 0:\n",
    "    reversed_num = reversed_num * 10 + num % 10\n",
    "    num //= 10 # num = num / 10\n",
    "print(reversed_num)"
   ]
  },
  {
   "cell_type": "code",
   "execution_count": null,
   "metadata": {},
   "outputs": [],
   "source": [
    "# 百钱百鸡问题\n",
    "\"\"\"\n",
    "《百钱百鸡》问题\n",
    "\n",
    "Version: 0.1\n",
    "Author: 骆昊\n",
    "\"\"\"\n",
    "\n",
    "for x in range(0, 20):\n",
    "    for y in range(0, 33):\n",
    "        z = 100 - x - y\n",
    "        if 5 * x + 3 * y + z / 3 == 100:\n",
    "            print('公鸡: %d只, 母鸡: %d只, 小鸡: %d只' % (x, y, z))"
   ]
  },
  {
   "cell_type": "code",
   "execution_count": null,
   "metadata": {},
   "outputs": [],
   "source": [
    "# CRAPS赌博游戏\n",
    "\"\"\"\n",
    "Craps赌博游戏\n",
    "我们设定玩家开始游戏时有1000元的赌注\n",
    "游戏结束的条件是玩家输光所有的赌注\n",
    "\n",
    "Version: 0.1\n",
    "Author: 骆昊\n",
    "\"\"\"\n",
    "from random import randint\n",
    "\n",
    "money = 1000\n",
    "while money > 0:\n",
    "    print('你的总资产为:', money)\n",
    "    needs_go_on = False\n",
    "    while True:\n",
    "        debt = int(input('请下注: '))\n",
    "        if 0 < debt <= money:\n",
    "            break\n",
    "    first = randint(1, 6) + randint(1, 6)\n",
    "    print('玩家摇出了%d点' % first)\n",
    "    if first == 7 or first == 11:\n",
    "        print('玩家胜!')\n",
    "        money += debt\n",
    "    elif first == 2 or first == 3 or first == 12:\n",
    "        print('庄家胜!')\n",
    "        money -= debt\n",
    "    else:\n",
    "        needs_go_on = True\n",
    "    while needs_go_on:\n",
    "        needs_go_on = False\n",
    "        current = randint(1, 6) + randint(1, 6)\n",
    "        print('玩家摇出了%d点' % current)\n",
    "        if current == 7:\n",
    "            print('庄家胜')\n",
    "            money -= debt\n",
    "        elif current == first:\n",
    "            print('玩家胜')\n",
    "            money += debt\n",
    "        else:\n",
    "            needs_go_on = True\n",
    "print('你破产了, 游戏结束!')\n"
   ]
  },
  {
   "cell_type": "code",
   "execution_count": null,
   "metadata": {},
   "outputs": [],
   "source": [
    "# 斐波那契数列\n",
    "\n",
    "fib = [1, 1]\n",
    "while len(fib) < 20:\n",
    "    fib.append(fib[-1] + fib[-2])\n",
    "print(fib)"
   ]
  },
  {
   "cell_type": "code",
   "execution_count": null,
   "metadata": {},
   "outputs": [],
   "source": [
    "# 找出10000以内的完美数\n",
    "\n",
    "import math\n",
    "\n",
    "for num in range(1, 10000):\n",
    "    sum = 0\n",
    "    for factor in range(1, int(math.sqrt(num))+1):\n",
    "        if num % factor == 0:\n",
    "            sum += factor\n",
    "            if factor > 1 and num // factor != factor:\n",
    "                sum += num // factor\n",
    "    if sum == num:\n",
    "        print(num, end=' ')   \n"
   ]
  },
  {
   "cell_type": "code",
   "execution_count": null,
   "metadata": {},
   "outputs": [],
   "source": [
    "# 输出100以内所有的素数\n",
    "\"\"\"\n",
    "输出2~99之间的素数\n",
    "Version: 0.1\n",
    "Author: 骆昊\n",
    "Date: 2018-03-02\n",
    "\"\"\"\n",
    "\n",
    "import math\n",
    "\n",
    "for num in range(2, 100):\n",
    "    is_prime = True\n",
    "    for factor in range(2, int(math.sqrt(num)) + 1):\n",
    "        if num % factor == 0:\n",
    "            is_prime = False\n",
    "            break\n",
    "    if is_prime:\n",
    "        print(num, end=' ')\n"
   ]
  },
  {
   "cell_type": "code",
   "execution_count": null,
   "metadata": {
    "tags": []
   },
   "outputs": [],
   "source": [
    "\"\"\"\n",
    "找出1~9999之间的所有完美数\n",
    "完美数是除自身外其他所有因子的和正好等于这个数本身的数\n",
    "例如: 6 = 1 + 2 + 3, 28 = 1 + 2 + 4 + 7 + 14\n",
    "Version: 0.1\n",
    "Author: 骆昊\n",
    "Date: 2018-03-02\n",
    "\"\"\"\n",
    "import math\n",
    "\n",
    "for num in range(1, 10000):\n",
    "    result = 0\n",
    "    for factor in range(1, int(math.sqrt(num)) + 1):\n",
    "        if num % factor == 0:\n",
    "            result += factor\n",
    "            if factor > 1 and num // factor != factor:\n",
    "                result += num // factor\n",
    "    if result == num:\n",
    "        print(num)"
   ]
  }
 ]
}